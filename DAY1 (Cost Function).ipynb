{
 "cells": [
  {
   "cell_type": "markdown",
   "metadata": {},
   "source": [
    "# DAY 1\n",
    "## Cost Function"
   ]
  },
  {
   "cell_type": "code",
   "execution_count": 44,
   "metadata": {},
   "outputs": [],
   "source": [
    "import numpy as np\n",
    "import matplotlib.pyplot as plt"
   ]
  },
  {
   "cell_type": "raw",
   "metadata": {},
   "source": [
    "We can mesure the accuracy of the Hypothsis (Prdicted Value) by\n",
    "using a Cost Function (Squared Error Function)"
   ]
  },
  {
   "cell_type": "markdown",
   "metadata": {},
   "source": [
    "$ {J}_{(\\theta_n)} = \\frac{1}{2m} \\sum_{i=1}^{m} ({{h}_{(x^i)}-{y}^i})^2 $"
   ]
  },
  {
   "cell_type": "raw",
   "metadata": {},
   "source": [
    "m = Number of Examples\n",
    "n = (Number of Features + 1)  +1 Because of Bais term"
   ]
  },
  {
   "cell_type": "raw",
   "metadata": {},
   "source": [
    "The mean (1/2) is for convince for the computing of gradient Descent\n",
    "as the dervative term of the square function will cencel out the 1/2 term"
   ]
  },
  {
   "cell_type": "code",
   "execution_count": 90,
   "metadata": {},
   "outputs": [],
   "source": [
    "def Cost_function(h, Y):\n",
    "    m = Y.shape[0]\n",
    "    error = h - Y\n",
    "    sqrError = np.power(error,2)\n",
    "    sumOfError = np.sum(sqrError)\n",
    "    J = 1/(2*m) * sumOfError\n",
    "    return J"
   ]
  },
  {
   "cell_type": "markdown",
   "metadata": {},
   "source": [
    "$ {y} = {x}_0 { \\theta}_0 + {x}_1 {\\theta}_1 + \\ldots + {x}_n {\\theta}_n $"
   ]
  },
  {
   "cell_type": "markdown",
   "metadata": {},
   "source": [
    "$ {h} = {\\sum}_{i=0}^n ( {x_i}{\\theta_i} ) $"
   ]
  },
  {
   "cell_type": "markdown",
   "metadata": {},
   "source": [
    "$ {x}_0 = 1 $"
   ]
  },
  {
   "cell_type": "raw",
   "metadata": {},
   "source": [
    "h = Predicted Values\n",
    "theta = parameters\n",
    "x0 = bais Term (Always one)"
   ]
  },
  {
   "cell_type": "code",
   "execution_count": 91,
   "metadata": {},
   "outputs": [],
   "source": [
    "def hypothesis(X, theta):\n",
    "    h = X.dot(theta)\n",
    "    return h"
   ]
  },
  {
   "cell_type": "code",
   "execution_count": 92,
   "metadata": {},
   "outputs": [],
   "source": [
    "def add_bais(X):\n",
    "    Xnorm = np.insert(X, 0, 1, axis=1)\n",
    "    return Xnorm"
   ]
  },
  {
   "cell_type": "code",
   "execution_count": 104,
   "metadata": {},
   "outputs": [],
   "source": [
    "def generate_data():\n",
    "    X = np.array(range(10)).reshape(-1,1)\n",
    "    Y = np.array(range(10)).reshape(-1,1)\n",
    "    theta = np.random.random((X.shape[1]+1,1))\n",
    "#     theta = np.array([[0],[1]]) <- Un comment it then cost will be Zero\n",
    "    return (X,Y,theta)"
   ]
  },
  {
   "cell_type": "code",
   "execution_count": 94,
   "metadata": {},
   "outputs": [],
   "source": [
    "def plot_graph(X,Y,h,num):\n",
    "    plt.figure(num)\n",
    "    plt.plot(X,Y,'go')\n",
    "    plt.plot(X,h,'b')\n",
    "    plt.xlabel('X')\n",
    "    plt.ylabel('Y')\n",
    "    plt.grid(True)"
   ]
  },
  {
   "cell_type": "code",
   "execution_count": 107,
   "metadata": {},
   "outputs": [],
   "source": [
    "def cost_function_graph(min_theta, max_theta):\n",
    "    # theta[0] = 0 Becuase of We want 2 dimesion Graph\n",
    "    theta[0]=0\n",
    "    \n",
    "    theta_range = np.array(range(min_theta, max_theta))\n",
    "    J_hist = []\n",
    "    for i in theta_range:\n",
    "        theta[1] = i\n",
    "        h = hypothesis(Xnorm,theta)\n",
    "        J = Cost_function(h, Y)\n",
    "        J_hist.append(J)\n",
    "    \n",
    "    plt.plot(theta_range, J_hist, 'r')\n",
    "    plt.ylabel('Cost')\n",
    "    plt.xlabel('theta_1')\n",
    "    plt.grid(True)"
   ]
  },
  {
   "cell_type": "code",
   "execution_count": 108,
   "metadata": {},
   "outputs": [
    {
     "name": "stdout",
     "output_type": "stream",
     "text": [
      "[0] -> [0]\n",
      "[1] -> [1]\n",
      "[2] -> [2]\n",
      "[3] -> [3]\n",
      "[4] -> [4]\n",
      "[5] -> [5]\n",
      "[6] -> [6]\n",
      "[7] -> [7]\n",
      "[8] -> [8]\n",
      "[9] -> [9]\n"
     ]
    }
   ],
   "source": [
    "# Generate Data\n",
    "X, Y, theta = generate_data()\n",
    "for x,y in zip(X,Y):\n",
    "    print(\"{} -> {}\".format(x,y))"
   ]
  },
  {
   "cell_type": "code",
   "execution_count": 109,
   "metadata": {
    "scrolled": true
   },
   "outputs": [
    {
     "name": "stdout",
     "output_type": "stream",
     "text": [
      "[1 0]\n",
      "[1 1]\n",
      "[1 2]\n",
      "[1 3]\n",
      "[1 4]\n",
      "[1 5]\n",
      "[1 6]\n",
      "[1 7]\n",
      "[1 8]\n",
      "[1 9]\n"
     ]
    }
   ],
   "source": [
    "# add Baise infront of Features\n",
    "Xnorm = add_bais(X)\n",
    "for Xn in Xnorm:\n",
    "    print(Xn)"
   ]
  },
  {
   "cell_type": "code",
   "execution_count": 110,
   "metadata": {},
   "outputs": [
    {
     "name": "stdout",
     "output_type": "stream",
     "text": [
      "[0.51649096]\n",
      "[1.50887638]\n",
      "[2.50126181]\n",
      "[3.49364723]\n",
      "[4.48603266]\n",
      "[5.47841808]\n",
      "[6.47080351]\n",
      "[7.46318893]\n",
      "[8.45557436]\n",
      "[9.44795978]\n"
     ]
    }
   ],
   "source": [
    "# Predict Value according to Given theta\n",
    "h = hypothesis(Xnorm,theta)\n",
    "for p in h:\n",
    "    print(p)"
   ]
  },
  {
   "cell_type": "code",
   "execution_count": 111,
   "metadata": {},
   "outputs": [
    {
     "data": {
      "image/png": "[encoded data removed]",
      "text/plain": [
       "<Figure size 432x288 with 1 Axes>"
      ]
     },
     "metadata": {
      "needs_background": "light"
     },
     "output_type": "display_data"
    }
   ],
   "source": [
    "# Plot Graph\n",
    "plot_graph(X,Y,h,1)"
   ]
  },
  {
   "cell_type": "code",
   "execution_count": 112,
   "metadata": {},
   "outputs": [
    {
     "data": {
      "text/plain": [
       "0.11650982820954361"
      ]
     },
     "execution_count": 112,
     "metadata": {},
     "output_type": "execute_result"
    }
   ],
   "source": [
    "# Calculate Cost according to given theta\n",
    "J = Cost_function(h, Y)\n",
    "J"
   ]
  },
  {
   "cell_type": "code",
   "execution_count": 115,
   "metadata": {},
   "outputs": [
    {
     "data": {
      "image/png": "[encoded data removed]",
      "text/plain": [
       "<Figure size 432x288 with 1 Axes>"
      ]
     },
     "metadata": {
      "needs_background": "light"
     },
     "output_type": "display_data"
    }
   ],
   "source": [
    "# Plot Cost function Graph \n",
    "cost_function_graph(-5, 8)"
   ]
  },
  {
   "cell_type": "raw",
   "metadata": {},
   "source": [
    "As we notice that Our Cost function Graph is Convex so it's mean we have only global maximum!"
   ]
  },
  {
   "cell_type": "code",
   "execution_count": null,
   "metadata": {},
   "outputs": [],
   "source": []
  }
 ],
 "metadata": {
  "kernelspec": {
   "display_name": "Python 3",
   "language": "python",
   "name": "python3"
  },
  "language_info": {
   "codemirror_mode": {
    "name": "ipython",
    "version": 3
   },
   "file_extension": ".py",
   "mimetype": "text/x-python",
   "name": "python",
   "nbconvert_exporter": "python",
   "pygments_lexer": "ipython3",
   "version": "3.7.7"
  }
 },
 "nbformat": 4,
 "nbformat_minor": 4
}
