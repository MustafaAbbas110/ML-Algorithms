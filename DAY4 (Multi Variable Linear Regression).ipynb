{
 "cells": [
  {
   "cell_type": "markdown",
   "metadata": {},
   "source": [
    "# DAY 4\n",
    "## Multivariate Linear regreession"
   ]
  },
  {
   "cell_type": "code",
   "execution_count": 3,
   "metadata": {},
   "outputs": [],
   "source": [
    "import numpy as np\n",
    "import matplotlib.pyplot as plt"
   ]
  },
  {
   "cell_type": "code",
   "execution_count": 176,
   "metadata": {},
   "outputs": [],
   "source": [
    "# Generate Data Which has multiple featuers (Multiple Column)\n",
    "def generate_data(num):\n",
    "    Xroom = np.random.randint(2,6,(num,1))\n",
    "    Xschool = np.random.randint(0,2,(num,1))\n",
    "    X = np.insert(Xschool,0,Xroom.T,axis=1)\n",
    "    \n",
    "    Yprice = np.random.randint(200,300,(num,1))\n",
    "    theta = np.random.random((X.shape[1]+1,1))\n",
    "    return (X,Yprice,theta)\n",
    "\n",
    "def feature_normalize(X):\n",
    "    Xnorm = np.zeros(X.shape)\n",
    "    for i in range(X.shape[1]):\n",
    "        Xchange = (X[:,i]-np.average(X[:,i]))/np.std(X[:,i])  \n",
    "        Xnorm[:,i] = Xchange\n",
    "            \n",
    "    return Xnorm\n",
    "\n",
    "# Cost Function\n",
    "def Cost_function(h, Y):\n",
    "    m = Y.shape[0]\n",
    "    error = h - Y\n",
    "    sqrError = np.power(error,2)\n",
    "    sumOfError = np.sum(sqrError)\n",
    "    J = 1/(2*m) * sumOfError\n",
    "    return J\n",
    "\n",
    "# Hyposhesis\n",
    "def hypothesis(X, theta):\n",
    "    h = X.dot(theta)\n",
    "    \n",
    "    return h\n",
    "\n",
    "# Add Bais\n",
    "def add_bais(X):\n",
    "    Xbais = np.insert(X, 0, 1, axis=1)\n",
    "    return Xbais\n",
    "\n",
    "# Cost Vs. Iteration Graph\n",
    "def CostVsItr(J_array,n):\n",
    "    plt.figure(n)\n",
    "    plt.plot(range(len(J_array)),J_array,'b')\n",
    "    plt.xlabel('Iterations')\n",
    "    plt.ylabel('Cost')\n",
    "    plt.title('Cost function')\n",
    "    plt.grid(True)"
   ]
  },
  {
   "cell_type": "code",
   "execution_count": 177,
   "metadata": {},
   "outputs": [],
   "source": [
    "# Training Phase\n",
    "def train(X, Y, theta, itr=100,alpha=0.3,error=0):\n",
    "    i = 0\n",
    "    J_arr = []\n",
    "    while i < itr:\n",
    "        \n",
    "        h = hypothesis(X, theta)\n",
    "        temp = alpha * gradient(h, Y, X)\n",
    "        theta = theta - temp\n",
    "        \n",
    "        \n",
    "        J = Cost_function(h,Y)\n",
    "        J_arr.append(J)\n",
    "        \n",
    "        i+=1\n",
    "        \n",
    "    return J_arr,theta\n",
    "\n",
    "# Gradient Descent\n",
    "def gradient(h,Y,X):\n",
    "    m = h.shape[0]\n",
    "    return (1/m)* ((h-Y).T.dot(X)).T"
   ]
  },
  {
   "cell_type": "code",
   "execution_count": 178,
   "metadata": {},
   "outputs": [],
   "source": [
    "def Run(itr, alpha):\n",
    "    X, Y, theta = generate_data(9)\n",
    "    Xnorm = feature_normalize(X)\n",
    "    Xbais = add_bais(Xnorm)\n",
    "    h = hypothesis(Xbais, theta)\n",
    "    print(f\"Initial Cost: {Cost_function(h,Y)}\")\n",
    "    J_arr,theta = train(Xbais, Y, theta,itr,alpha)\n",
    "    CostVsItr(J_arr,1)\n",
    "    h = hypothesis(Xbais, theta)\n",
    "    print(f'Final Cost: {J_arr[-1]}')"
   ]
  },
  {
   "cell_type": "code",
   "execution_count": 179,
   "metadata": {},
   "outputs": [
    {
     "name": "stdout",
     "output_type": "stream",
     "text": [
      "Initial Cost: 31115.85127792654\n",
      "Final Cost: 245.12750348113047\n"
     ]
    },
    {
     "data": {
      "image/png": "[encoded data removed]",
      "text/plain": [
       "<Figure size 432x288 with 1 Axes>"
      ]
     },
     "metadata": {
      "needs_background": "light"
     },
     "output_type": "display_data"
    }
   ],
   "source": [
    "Run(itr=10, alpha = 0.3)"
   ]
  },
  {
   "cell_type": "code",
   "execution_count": null,
   "metadata": {},
   "outputs": [],
   "source": []
  }
 ],
 "metadata": {
  "kernelspec": {
   "display_name": "Python 3",
   "language": "python",
   "name": "python3"
  },
  "language_info": {
   "codemirror_mode": {
    "name": "ipython",
    "version": 3
   },
   "file_extension": ".py",
   "mimetype": "text/x-python",
   "name": "python",
   "nbconvert_exporter": "python",
   "pygments_lexer": "ipython3",
   "version": "3.8.3"
  }
 },
 "nbformat": 4,
 "nbformat_minor": 4
}
